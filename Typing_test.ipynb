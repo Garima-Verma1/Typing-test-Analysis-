{
 "cells": [
  {
   "cell_type": "code",
   "execution_count": 7,
   "id": "d4e7cbfd-1d9d-4157-a267-e2cf9337e776",
   "metadata": {},
   "outputs": [
    {
     "name": "stdout",
     "output_type": "stream",
     "text": [
      " *** Typing speed ***\n",
      "The pandemic has affected the education system and the economy of the world as well.\n",
      "\n",
      "\n"
     ]
    },
    {
     "name": "stdin",
     "output_type": "stream",
     "text": [
      "Enter : The pandemic has affected the education system and the economy of the world as well.\n"
     ]
    },
    {
     "name": "stdout",
     "output_type": "stream",
     "text": [
      "speed : 2 w/sec\n",
      "Error :  0\n"
     ]
    }
   ],
   "source": [
    "from time import *\n",
    "import random as r\n",
    "\n",
    "def mistake(par_test,usertest):\n",
    "    error = 0\n",
    "    for i in range(len(par_test)):\n",
    "        try:\n",
    "            if par_test[i] != usertest[i]:\n",
    "                error = error +1\n",
    "        except:\n",
    "            error = error +1\n",
    "    return error\n",
    "\n",
    "def speed_time(time_s,time_e,userinput):\n",
    "    time_delay = time_e - time_s\n",
    "    time_R = round(time_delay,2)\n",
    "    speed = len(userinput)/time_R\n",
    "    return round(speed)\n",
    "\n",
    "test = [\"A Paragraph is a self contained unit of discourse in writting dealing with a perticular point or idea.\",\n",
    "       \"The Covid-19 pandemic has been a deadly pandemic that has affected the whole world.\",\n",
    "        \" It was a viral infection that affected almost everyone in some way or the other.\",\n",
    "        \"However, the effects have been felt differently depending on various factors.\",\n",
    "        \"As it is a virus, it will change with time, and different variants might keep coming.\",\n",
    "        \"The virus has affected the lifestyle of human beings.\",\n",
    "        \"The pandemic has affected the education system and the economy of the world as well.\",\n",
    "        \"Many people have lost their lives, jobs, near and dear, etc. \"]\n",
    "test1 = r.choice(test)\n",
    "print(\" *** Typing speed ***\")\n",
    "print(test1)\n",
    "print()\n",
    "print()\n",
    "time_1 = time()\n",
    "testinput = input(\"Enter :\")\n",
    "time_2 = time()\n",
    "print('speed :',speed_time(time_1,time_2,testinput),\"w/sec\")\n",
    "print(\"Error : \",mistake(test1,testinput))"
   ]
  },
  {
   "cell_type": "code",
   "execution_count": null,
   "id": "e4061564-39e7-46ae-98e4-39eb9ae3de94",
   "metadata": {},
   "outputs": [],
   "source": []
  }
 ],
 "metadata": {
  "kernelspec": {
   "display_name": "Python 3 (ipykernel)",
   "language": "python",
   "name": "python3"
  },
  "language_info": {
   "codemirror_mode": {
    "name": "ipython",
    "version": 3
   },
   "file_extension": ".py",
   "mimetype": "text/x-python",
   "name": "python",
   "nbconvert_exporter": "python",
   "pygments_lexer": "ipython3",
   "version": "3.11.7"
  }
 },
 "nbformat": 4,
 "nbformat_minor": 5
}
